{
 "cells": [
  {
   "cell_type": "markdown",
   "metadata": {},
   "source": [
    "# Regression Modelling Superconductivity Critical Temperature from Elemental Composition"
   ]
  },
  {
   "cell_type": "code",
   "execution_count": 1,
   "metadata": {},
   "outputs": [],
   "source": [
    "# Base imports\n",
    "import numpy as np\n",
    "import pandas as pd\n",
    "import matplotlib.pyplot as plt\n",
    "import seaborn as sns\n",
    "import scipy.stats as stats\n",
    "\n",
    "# Pipeline and Modelling\n",
    "from sklearn.preprocessing import StandardScaler, RobustScaler, MaxAbsScaler, SplineTransformer\n",
    "from sklearn.linear_model import LinearRegression, Ridge, BayesianRidge, RidgeCV\n",
    "from sklearn.svm import LinearSVR\n",
    "from sklearn.ensemble import GradientBoostingRegressor, HistGradientBoostingRegressor\n",
    "from sklearn.metrics import accuracy_score, r2_score, roc_auc_score, roc_curve\n",
    "from xgboost import XGBRegressor\n",
    "\n",
    "# Plot styles\n",
    "plt.style.use('seaborn-v0_8-darkgrid')\n",
    "plt.rcParams['axes.titleweight'] = 'bold'\n",
    "plt.rcParams['axes.titlesize'] = 13\n",
    "plt.rcParams['font.size'] = 11\n",
    "from matplotlib.ticker import FuncFormatter"
   ]
  },
  {
   "cell_type": "code",
   "execution_count": 2,
   "metadata": {},
   "outputs": [],
   "source": [
    "# Setting up same dataframes as EDA file\n",
    "df = pd.read_csv('data/train.csv')\n",
    "chemcomp = pd.read_csv('data/unique_m.csv')\n",
    "norm_chemcomp = chemcomp.drop(columns=['critical_temp','material'])\n",
    "norm_chemcomp = norm_chemcomp.div(norm_chemcomp.sum(axis=1),axis=0)\n",
    "norm_chemcomp['critical_temp']=chemcomp['critical_temp']"
   ]
  },
  {
   "cell_type": "markdown",
   "metadata": {},
   "source": [
    "## Context from Exploratory Data Analysis\n",
    "In our analysis, we noted high correlation between features derived from elemental properties, both weighted for composition proportion and not, and our target, the critical temperature (Tc) for superconduction. However we also noted high correlation between overall sample compositions and Tc, possibly largely influenced by the prevalence of cuprous boron oxide (*CBOx) superconductors in high-temperature superconduction research. Our task is then to ensure that our derived features create a better model than one derived from composition alone and the Tc is well-predicted for the full range of available temperatures and is not overfit to our *CBOx high Tc materials - that our features are meaningful APART from their connection to whether they typify a cuprous oxide. "
   ]
  },
  {
   "cell_type": "code",
   "execution_count": null,
   "metadata": {},
   "outputs": [],
   "source": []
  }
 ],
 "metadata": {
  "kernelspec": {
   "display_name": "Cohort_Env",
   "language": "python",
   "name": "python3"
  },
  "language_info": {
   "codemirror_mode": {
    "name": "ipython",
    "version": 3
   },
   "file_extension": ".py",
   "mimetype": "text/x-python",
   "name": "python",
   "nbconvert_exporter": "python",
   "pygments_lexer": "ipython3",
   "version": "3.8.19"
  }
 },
 "nbformat": 4,
 "nbformat_minor": 2
}
